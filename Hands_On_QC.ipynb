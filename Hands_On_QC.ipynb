{
 "cells": [
  {
   "cell_type": "markdown",
   "metadata": {
    "id": "KiQ3we0hoR77"
   },
   "source": [
    "# **Minicurso Introdução à Computação Quântica - UESB**\n",
    "\n",
    "## Soluções dos hands on"
   ]
  },
  {
   "cell_type": "code",
   "execution_count": 56,
   "metadata": {
    "colab": {
     "base_uri": "https://localhost:8080/"
    },
    "id": "GYXLoqWKafvV",
    "outputId": "37de187c-ac51-441d-f6aa-c85ad3aeb87d"
   },
   "outputs": [
    {
     "name": "stdout",
     "output_type": "stream",
     "text": [
      "Requirement already satisfied: pylatexenc in /usr/local/lib/python3.11/dist-packages (2.10)\n"
     ]
    }
   ],
   "source": [
    "!pip install pylatexenc"
   ]
  },
  {
   "cell_type": "code",
   "execution_count": 2,
   "metadata": {
    "colab": {
     "base_uri": "https://localhost:8080/"
    },
    "id": "cEXq9g3csSBl",
    "outputId": "b2e75c46-b634-42b9-cbd4-17f17a95e915"
   },
   "outputs": [
    {
     "name": "stdout",
     "output_type": "stream",
     "text": [
      "Collecting qiskit\n",
      "  Downloading qiskit-1.4.1-cp39-abi3-manylinux_2_17_x86_64.manylinux2014_x86_64.whl.metadata (12 kB)\n",
      "Collecting rustworkx>=0.15.0 (from qiskit)\n",
      "  Downloading rustworkx-0.16.0-cp39-abi3-manylinux_2_17_x86_64.manylinux2014_x86_64.whl.metadata (10 kB)\n",
      "Requirement already satisfied: numpy<3,>=1.17 in /usr/local/lib/python3.11/dist-packages (from qiskit) (1.26.4)\n",
      "Requirement already satisfied: scipy>=1.5 in /usr/local/lib/python3.11/dist-packages (from qiskit) (1.14.1)\n",
      "Requirement already satisfied: sympy>=1.3 in /usr/local/lib/python3.11/dist-packages (from qiskit) (1.13.1)\n",
      "Collecting dill>=0.3 (from qiskit)\n",
      "  Downloading dill-0.3.9-py3-none-any.whl.metadata (10 kB)\n",
      "Requirement already satisfied: python-dateutil>=2.8.0 in /usr/local/lib/python3.11/dist-packages (from qiskit) (2.8.2)\n",
      "Collecting stevedore>=3.0.0 (from qiskit)\n",
      "  Downloading stevedore-5.4.1-py3-none-any.whl.metadata (2.3 kB)\n",
      "Requirement already satisfied: typing-extensions in /usr/local/lib/python3.11/dist-packages (from qiskit) (4.12.2)\n",
      "Collecting symengine<0.14,>=0.11 (from qiskit)\n",
      "  Downloading symengine-0.13.0-cp311-cp311-manylinux_2_17_x86_64.manylinux2014_x86_64.whl.metadata (1.2 kB)\n",
      "Requirement already satisfied: six>=1.5 in /usr/local/lib/python3.11/dist-packages (from python-dateutil>=2.8.0->qiskit) (1.17.0)\n",
      "Collecting pbr>=2.0.0 (from stevedore>=3.0.0->qiskit)\n",
      "  Downloading pbr-6.1.1-py2.py3-none-any.whl.metadata (3.4 kB)\n",
      "Requirement already satisfied: mpmath<1.4,>=1.1.0 in /usr/local/lib/python3.11/dist-packages (from sympy>=1.3->qiskit) (1.3.0)\n",
      "Requirement already satisfied: setuptools in /usr/local/lib/python3.11/dist-packages (from pbr>=2.0.0->stevedore>=3.0.0->qiskit) (75.1.0)\n",
      "Downloading qiskit-1.4.1-cp39-abi3-manylinux_2_17_x86_64.manylinux2014_x86_64.whl (6.7 MB)\n",
      "\u001b[2K   \u001b[90m━━━━━━━━━━━━━━━━━━━━━━━━━━━━━━━━━━━━━━━━\u001b[0m \u001b[32m6.7/6.7 MB\u001b[0m \u001b[31m70.2 MB/s\u001b[0m eta \u001b[36m0:00:00\u001b[0m\n",
      "\u001b[?25hDownloading dill-0.3.9-py3-none-any.whl (119 kB)\n",
      "\u001b[2K   \u001b[90m━━━━━━━━━━━━━━━━━━━━━━━━━━━━━━━━━━━━━━━━\u001b[0m \u001b[32m119.4/119.4 kB\u001b[0m \u001b[31m10.5 MB/s\u001b[0m eta \u001b[36m0:00:00\u001b[0m\n",
      "\u001b[?25hDownloading rustworkx-0.16.0-cp39-abi3-manylinux_2_17_x86_64.manylinux2014_x86_64.whl (2.1 MB)\n",
      "\u001b[2K   \u001b[90m━━━━━━━━━━━━━━━━━━━━━━━━━━━━━━━━━━━━━━━━\u001b[0m \u001b[32m2.1/2.1 MB\u001b[0m \u001b[31m66.8 MB/s\u001b[0m eta \u001b[36m0:00:00\u001b[0m\n",
      "\u001b[?25hDownloading stevedore-5.4.1-py3-none-any.whl (49 kB)\n",
      "\u001b[2K   \u001b[90m━━━━━━━━━━━━━━━━━━━━━━━━━━━━━━━━━━━━━━━━\u001b[0m \u001b[32m49.5/49.5 kB\u001b[0m \u001b[31m4.3 MB/s\u001b[0m eta \u001b[36m0:00:00\u001b[0m\n",
      "\u001b[?25hDownloading symengine-0.13.0-cp311-cp311-manylinux_2_17_x86_64.manylinux2014_x86_64.whl (49.7 MB)\n",
      "\u001b[2K   \u001b[90m━━━━━━━━━━━━━━━━━━━━━━━━━━━━━━━━━━━━━━━━\u001b[0m \u001b[32m49.7/49.7 MB\u001b[0m \u001b[31m18.4 MB/s\u001b[0m eta \u001b[36m0:00:00\u001b[0m\n",
      "\u001b[?25hDownloading pbr-6.1.1-py2.py3-none-any.whl (108 kB)\n",
      "\u001b[2K   \u001b[90m━━━━━━━━━━━━━━━━━━━━━━━━━━━━━━━━━━━━━━━━\u001b[0m \u001b[32m109.0/109.0 kB\u001b[0m \u001b[31m9.7 MB/s\u001b[0m eta \u001b[36m0:00:00\u001b[0m\n",
      "\u001b[?25hInstalling collected packages: symengine, rustworkx, pbr, dill, stevedore, qiskit\n",
      "Successfully installed dill-0.3.9 pbr-6.1.1 qiskit-1.4.1 rustworkx-0.16.0 stevedore-5.4.1 symengine-0.13.0\n"
     ]
    }
   ],
   "source": [
    "# Instalando o Qiskit\n",
    "\n",
    "!pip install qiskit"
   ]
  },
  {
   "cell_type": "markdown",
   "metadata": {
    "id": "wbsx8ls3p2IA"
   },
   "source": [
    "# Para criar um circuito é necessário importar algumas bibliotecas:\n",
    "\n",
    "\n",
    "```\n",
    "from qiskit import QuantumCircuit\n",
    "from qiskit.providers.basic_provider import BasicProvider\n",
    "from qiskit.visualization import plot_histogram\n",
    "from qiskit.visualization import circuit_drawer\n",
    "import pylatexenc\n",
    "```\n",
    "\n"
   ]
  },
  {
   "cell_type": "code",
   "execution_count": 52,
   "metadata": {
    "colab": {
     "base_uri": "https://localhost:8080/",
     "height": 106
    },
    "id": "l9JwQRTxoluh",
    "outputId": "58bac093-c66e-4346-ad22-4c58901a87a2"
   },
   "outputs": [
    {
     "ename": "SyntaxError",
     "evalue": "invalid syntax (<ipython-input-52-cb2f85aee68f>, line 7)",
     "output_type": "error",
     "traceback": [
      "\u001b[0;36m  File \u001b[0;32m\"<ipython-input-52-cb2f85aee68f>\"\u001b[0;36m, line \u001b[0;32m7\u001b[0m\n\u001b[0;31m    qc.'porta que deseja aplicar'('qubit onde a porta será aplicada')\u001b[0m\n\u001b[0m       ^\u001b[0m\n\u001b[0;31mSyntaxError\u001b[0m\u001b[0;31m:\u001b[0m invalid syntax\n"
     ]
    }
   ],
   "source": [
    "from qiskit import QuantumCircuit\n",
    "from qiskit.providers.basic_provider import BasicProvider\n",
    "from qiskit.visualization import plot_histogram # caso deseje plotar histogramas\n",
    "from qiskit.visualization import circuit_drawer # Usado para visualizar circuito de forma mais bonita\n",
    "import pylatexenc # para usar o matplotdrawer \n",
    "#criacao do circuito quantico com 1 qubit e 1 registrador clássico\n",
    "qc = QuantumCircuit( 'quantidade de qubits', 'quantidade de registradores clássicos')\n",
    "\n",
    "qc.'porta que deseja aplicar'('qubit onde a porta será aplicada')\n",
    "\n",
    "qc.measure_all() #Mede o estado do qubit e armazena o resultado no registrador clássico.\n",
    "\n",
    "qc.measure('qubit','registrador clássico') # É possível realizar a medição dessa forma também\n",
    "\n",
    "#utilizando o QASM Simulator\n",
    "backend = BasicProvider().get_backend(\"basic_simulator\") # Define um simulador quântico (basic_simulator do BasicProvider).\n",
    "# Caso deseje uma quantidade específica de execuções:\n",
    "result = backend.run(qc, shots=2048).result()\n",
    "\n",
    "result = backend.run(qc).result() # Executa o circuito e obtém o resultado da simulação\n",
    "counts = result.get_counts() # O resultado é armazenado na variável counts, que contém a contagem dos estados medidos (quantas vezes o resultado foi 0 ou 1).\n",
    "\n",
    "print(counts)\n",
    "qc.draw() # Desenha o circuito quântico de forma visual.\n"
   ]
  },
  {
   "cell_type": "markdown",
   "metadata": {
    "id": "E-2kl6kxMZHs"
   },
   "source": [
    "### Solução - 1\n",
    "Implemente a porta X em um qubit inicialmente no estado ∣0⟩ e meça o resultado."
   ]
  },
  {
   "cell_type": "code",
   "execution_count": 4,
   "metadata": {
    "colab": {
     "base_uri": "https://localhost:8080/",
     "height": 111
    },
    "id": "wJzdBHq9Mhp-",
    "outputId": "e7f779d1-bc56-422c-d773-4e886fd89f2f"
   },
   "outputs": [
    {
     "name": "stdout",
     "output_type": "stream",
     "text": [
      "{'1': 1024}\n"
     ]
    },
    {
     "data": {
      "image/png": "[encoded data removed]",
      "text/plain": [
       "<Figure size 269.064x200.667 with 1 Axes>"
      ]
     },
     "execution_count": 4,
     "metadata": {},
     "output_type": "execute_result"
    }
   ],
   "source": [
    "from qiskit import QuantumCircuit\n",
    "from qiskit.providers.basic_provider import BasicProvider\n",
    "from qiskit.visualization import plot_histogram\n",
    "from qiskit.visualization import circuit_drawer\n",
    "import pylatexenc\n",
    "\n",
    "#criacao do circuito quantico com 1 qubit e 1 registrador clássico\n",
    "qc = QuantumCircuit(1, 1)\n",
    "qc.x(0) #aplicando a porta Pauli-X ao qubit\n",
    "qc.measure(0,0)\n",
    "\n",
    "#utilizando o QASM Simulator\n",
    "backend = BasicProvider().get_backend(\"basic_simulator\")\n",
    "result = backend.run(qc).result()\n",
    "counts = result.get_counts()\n",
    "print(counts)\n",
    "#qc.draw()\n",
    "circuit_drawer(qc, output=\"mpl\", style={\"backgroundcolor\": \"#EEEEEE\"})"
   ]
  },
  {
   "cell_type": "markdown",
   "metadata": {
    "id": "wRWm1hQTNNLK"
   },
   "source": [
    "### Solução - 2\n",
    "Agora, implemente a porta X novamente, mas desta vez atuando em um qubit previamente preparado no estado ∣1⟩. Meça o resultado.\n"
   ]
  },
  {
   "cell_type": "code",
   "execution_count": 5,
   "metadata": {
    "colab": {
     "base_uri": "https://localhost:8080/",
     "height": 111
    },
    "id": "TJR5EKagMokf",
    "outputId": "80815539-5aa5-4307-9bbd-f71bfd8dbab0"
   },
   "outputs": [
    {
     "name": "stdout",
     "output_type": "stream",
     "text": [
      "{'0': 1024}\n"
     ]
    },
    {
     "data": {
      "image/png": "[encoded data removed]",
      "text/plain": [
       "<Figure size 352.675x200.667 with 1 Axes>"
      ]
     },
     "execution_count": 5,
     "metadata": {},
     "output_type": "execute_result"
    }
   ],
   "source": [
    "from qiskit import QuantumCircuit\n",
    "from qiskit.providers.basic_provider import BasicProvider\n",
    "from qiskit.visualization import plot_histogram\n",
    "from qiskit.visualization import circuit_drawer\n",
    "import pylatexenc\n",
    "\n",
    "# Criando um circuito com 1 qubit e 1 registrador clássico\n",
    "qc = QuantumCircuit(1, 1)\n",
    "\n",
    "qc.x(0)  # Prepara o qubit no estado |1⟩\n",
    "qc.x(0)  # Aplica a porta X novamente (volta para |0⟩)\n",
    "#qc.measure_all()  # Mede o qubit\n",
    "qc.measure(0,0)\n",
    "# Utilizando o simulador\n",
    "backend = BasicProvider().get_backend(\"basic_simulator\")\n",
    "result = backend.run(qc, shots=1024).result()\n",
    "counts = result.get_counts()\n",
    "\n",
    "print(counts)  # Mostra os resultados da medição\n",
    "#qc.draw()\n",
    "circuit_drawer(qc, output=\"mpl\", style={\"backgroundcolor\": \"#EEEEEE\"})"
   ]
  },
  {
   "cell_type": "markdown",
   "metadata": {
    "id": "d09y3pzpPWoG"
   },
   "source": [
    "### Solução - 3\n",
    "Aplique a porta H em um qubit e realize a medição."
   ]
  },
  {
   "cell_type": "code",
   "execution_count": 6,
   "metadata": {
    "colab": {
     "base_uri": "https://localhost:8080/",
     "height": 111
    },
    "id": "Tfm5t_xtOxrR",
    "outputId": "f96cbe6f-0a9a-4410-ff54-538539c21d42"
   },
   "outputs": [
    {
     "name": "stdout",
     "output_type": "stream",
     "text": [
      "{'1': 504, '0': 520}\n"
     ]
    },
    {
     "data": {
      "image/png": "[encoded data removed]",
      "text/plain": [
       "<Figure size 413.165x200.667 with 1 Axes>"
      ]
     },
     "execution_count": 6,
     "metadata": {},
     "output_type": "execute_result"
    }
   ],
   "source": [
    "from qiskit import QuantumCircuit\n",
    "from qiskit.providers.basic_provider import BasicProvider\n",
    "from qiskit.visualization import plot_histogram\n",
    "\n",
    "#criacao do circuito quantico com 1 qubit e 1 registrador clássico\n",
    "qc = QuantumCircuit(1)\n",
    "qc.h(0) #aplicando a porta H ao qubit\n",
    "qc.measure_all()\n",
    "\n",
    "#utilizando o QASM Simulator\n",
    "backend = BasicProvider().get_backend(\"basic_simulator\")\n",
    "result = backend.run(qc).result()\n",
    "counts = result.get_counts()\n",
    "print(counts)\n",
    "qc.draw()\n",
    "circuit_drawer(qc, output=\"mpl\", style={\"backgroundcolor\": \"#EEEEEE\"})"
   ]
  },
  {
   "cell_type": "code",
   "execution_count": null,
   "metadata": {
    "id": "Jz9ysVfyQG2T"
   },
   "outputs": [],
   "source": []
  },
  {
   "cell_type": "markdown",
   "metadata": {
    "id": "wRQykDIpQQvT"
   },
   "source": [
    "Repita os experimentos anteriores realizando apenas uma medição (shot = 1). O que você observa?\n",
    "\n",
    "### Solução - 4\n",
    "Agora, repita os experimentos utilizando 100 medições (shots = 100). Qual a sua conclusão sobre os resultados obtidos?"
   ]
  },
  {
   "cell_type": "code",
   "execution_count": 7,
   "metadata": {
    "colab": {
     "base_uri": "https://localhost:8080/",
     "height": 111
    },
    "id": "YNZZMVq8QYP3",
    "outputId": "d184b5d6-5386-4699-d5b2-a722debb9603"
   },
   "outputs": [
    {
     "name": "stdout",
     "output_type": "stream",
     "text": [
      "{'0': 489, '1': 511}\n"
     ]
    },
    {
     "data": {
      "image/png": "[encoded data removed]",
      "text/plain": [
       "<Figure size 269.064x200.667 with 1 Axes>"
      ]
     },
     "execution_count": 7,
     "metadata": {},
     "output_type": "execute_result"
    }
   ],
   "source": [
    "from qiskit import QuantumCircuit\n",
    "from qiskit.providers.basic_provider import BasicProvider\n",
    "from qiskit.visualization import plot_histogram\n",
    "\n",
    "# Criação do circuito quântico com 1 qubit\n",
    "qc = QuantumCircuit(1, 1)  # Adicionando 1 registrador clássico\n",
    "\n",
    "qc.h(0)  # Aplicando a porta Hadamard ao qubit\n",
    "qc.measure(0, 0)  # Medindo o qubit\n",
    "\n",
    "# Utilizando o QASM Simulator com 1000 shots\n",
    "backend = BasicProvider().get_backend(\"basic_simulator\")\n",
    "result = backend.run(qc, shots=1000).result()\n",
    "counts = result.get_counts()\n",
    "\n",
    "# Exibindo os resultados\n",
    "print(counts)\n",
    "qc.draw()\n",
    "circuit_drawer(qc, output=\"mpl\", style={\"backgroundcolor\": \"#EEEEEE\"})\n"
   ]
  },
  {
   "cell_type": "code",
   "execution_count": 16,
   "metadata": {
    "colab": {
     "base_uri": "https://localhost:8080/",
     "height": 429
    },
    "id": "jqEPetrkQVmD",
    "outputId": "70f001cd-6db3-41df-e629-45d5093c3585"
   },
   "outputs": [
    {
     "data": {
      "image/png": "[encoded data removed]",
      "text/plain": [
       "<Figure size 640x480 with 1 Axes>"
      ]
     },
     "execution_count": 16,
     "metadata": {},
     "output_type": "execute_result"
    }
   ],
   "source": [
    "plot_histogram(counts)  # Plota um histograma das medições"
   ]
  },
  {
   "cell_type": "markdown",
   "metadata": {
    "id": "35E8-uqJQW9t"
   },
   "source": [
    "### Solução - 5\n",
    "Crie um circuito quântico e implemente a porta CNOT.\n"
   ]
  },
  {
   "cell_type": "code",
   "execution_count": 8,
   "metadata": {
    "colab": {
     "base_uri": "https://localhost:8080/",
     "height": 142
    },
    "id": "3hOKb4ZeRnwq",
    "outputId": "898dd023-7f2e-418f-f6c9-2f26c8b29b9c"
   },
   "outputs": [
    {
     "name": "stdout",
     "output_type": "stream",
     "text": [
      "{'00': 4, '11': 6}\n"
     ]
    },
    {
     "data": {
      "image/png": "[encoded data removed]",
      "text/plain": [
       "<Figure size 454.517x284.278 with 1 Axes>"
      ]
     },
     "execution_count": 8,
     "metadata": {},
     "output_type": "execute_result"
    }
   ],
   "source": [
    "from qiskit import QuantumCircuit\n",
    "from qiskit.providers.basic_provider import BasicProvider\n",
    "from qiskit.visualization import plot_histogram\n",
    "\n",
    "# Criando um circuito com 2 qubits e 2 registradores clássicos\n",
    "qc = QuantumCircuit(2, 2)\n",
    "\n",
    "qc.h(0)  # Aplica a porta Hadamard no qubit 0 (cria superposição)\n",
    "qc.cx(0, 1)  # Aplica a porta CNOT (qubit 0 = controle, qubit 1 = alvo)\n",
    "qc.measure([0, 1], [0, 1])  # Mede ambos os qubits\n",
    "\n",
    "# Simulando com 1000 shots\n",
    "backend = BasicProvider().get_backend(\"basic_simulator\")\n",
    "result = backend.run(qc, shots=10).result()\n",
    "counts = result.get_counts()\n",
    "\n",
    "# Exibindo os resultados\n",
    "print(counts)\n",
    "qc.draw()\n",
    "circuit_drawer(qc, output=\"mpl\", style={\"backgroundcolor\": \"#EEEEEE\"})"
   ]
  },
  {
   "cell_type": "code",
   "execution_count": 21,
   "metadata": {
    "colab": {
     "base_uri": "https://localhost:8080/",
     "height": 437
    },
    "id": "Bwhuy1ajRqfz",
    "outputId": "fe82c0d6-1fdd-4747-99da-eaf5d666fa42"
   },
   "outputs": [
    {
     "data": {
      "image/png": "[encoded data removed]",
      "text/plain": [
       "<Figure size 640x480 with 1 Axes>"
      ]
     },
     "execution_count": 21,
     "metadata": {},
     "output_type": "execute_result"
    }
   ],
   "source": [
    "plot_histogram(counts)\n"
   ]
  },
  {
   "cell_type": "markdown",
   "metadata": {
    "id": "9RXRYtUQUHhk"
   },
   "source": [
    "### Solução - 6\n",
    "Crie um  circuito quântico  com a porta CNOT implementada, porém ela deve ativar quando o qubit de controle estiver no estado |0⟩"
   ]
  },
  {
   "cell_type": "code",
   "execution_count": 9,
   "metadata": {
    "colab": {
     "base_uri": "https://localhost:8080/",
     "height": 142
    },
    "id": "bWuPNTZZT_2o",
    "outputId": "9307db5a-3759-4c01-d83a-afa3600ed6b6"
   },
   "outputs": [
    {
     "name": "stdout",
     "output_type": "stream",
     "text": [
      "{'10': 100}\n"
     ]
    },
    {
     "data": {
      "image/png": "[encoded data removed]",
      "text/plain": [
       "<Figure size 454.517x284.278 with 1 Axes>"
      ]
     },
     "execution_count": 9,
     "metadata": {},
     "output_type": "execute_result"
    }
   ],
   "source": [
    "from qiskit import QuantumCircuit\n",
    "from qiskit.providers.basic_provider import BasicProvider\n",
    "from qiskit.visualization import plot_histogram\n",
    "\n",
    "# Criando um circuito com 2 qubits e 2 registradores clássicos\n",
    "qc = QuantumCircuit(2, 2)\n",
    "\n",
    "qc.x(0)  # Aplica a porta X no qubit 0 para flipar o estado para 1\n",
    "qc.cx(0, 1)  # Aplica a porta CNOT (qubit 0 = controle, qubit 1 = alvo)\n",
    "qc.x(0)  # Aplica a porta X no qubit 0 novamente para retornar ao estado 0\n",
    "\n",
    "qc.measure([0, 1], [0, 1])  # Mede ambos os qubits\n",
    "\n",
    "# Simulando com 1000 shots\n",
    "backend = BasicProvider().get_backend(\"basic_simulator\")\n",
    "result = backend.run(qc, shots=100).result()\n",
    "counts = result.get_counts()\n",
    "\n",
    "# Exibindo os resultados\n",
    "print(counts)\n",
    "qc.draw()\n",
    "circuit_drawer(qc, output=\"mpl\", style={\"backgroundcolor\": \"#EEEEEE\"})"
   ]
  },
  {
   "cell_type": "code",
   "execution_count": null,
   "metadata": {
    "id": "_j7cmj2UU6yy"
   },
   "outputs": [],
   "source": []
  },
  {
   "cell_type": "markdown",
   "metadata": {
    "id": "JpfyHH_oU-0z"
   },
   "source": [
    "### Algoritmo de Deustch"
   ]
  },
  {
   "cell_type": "code",
   "execution_count": 16,
   "metadata": {
    "id": "RJHQsDAdWAhM"
   },
   "outputs": [],
   "source": [
    "from qiskit import QuantumCircuit\n",
    "from qiskit_aer import AerSimulator\n",
    "\n",
    "\n",
    "def deutsch_function(case: int):\n",
    "    # Essa função gera um circuito quântico para um dos quatro casos possíveis.\n",
    "    if case not in [1, 2, 3, 4]:\n",
    "        raise ValueError(\"`case` must be 1, 2, 3, or 4.\")\n",
    "\n",
    "    f = QuantumCircuit(2)\n",
    "    if case in [2, 3]:\n",
    "        f.cx(0, 1)\n",
    "    if case in [3, 4]:\n",
    "        f.x(1)\n",
    "    return f"
   ]
  },
  {
   "cell_type": "code",
   "execution_count": 19,
   "metadata": {
    "colab": {
     "base_uri": "https://localhost:8080/",
     "height": 325
    },
    "id": "U6wceCPwW8ht",
    "outputId": "af462b82-8a5d-4a6e-e706-5aca829543e0"
   },
   "outputs": [
    {
     "name": "stdout",
     "output_type": "stream",
     "text": [
      "Circuito para o caso 1:\n"
     ]
    },
    {
     "data": {
      "image/png": "[encoded data removed]",
      "text/plain": [
       "<Figure size 161.878x200.667 with 1 Axes>"
      ]
     },
     "metadata": {},
     "output_type": "display_data"
    },
    {
     "name": "stdout",
     "output_type": "stream",
     "text": [
      "Circuito para o caso 2:\n"
     ]
    },
    {
     "data": {
      "image/png": "[encoded data removed]",
      "text/plain": [
       "<Figure size 203.683x200.667 with 1 Axes>"
      ]
     },
     "metadata": {},
     "output_type": "display_data"
    },
    {
     "name": "stdout",
     "output_type": "stream",
     "text": [
      "Circuito para o caso 3:\n"
     ]
    },
    {
     "data": {
      "image/png": "[encoded data removed]",
      "text/plain": [
       "<Figure size 287.294x200.667 with 1 Axes>"
      ]
     },
     "metadata": {},
     "output_type": "display_data"
    },
    {
     "name": "stdout",
     "output_type": "stream",
     "text": [
      "Circuito para o caso 4:\n"
     ]
    },
    {
     "data": {
      "image/png": "[encoded data removed]",
      "text/plain": [
       "<Figure size 203.683x200.667 with 1 Axes>"
      ]
     },
     "metadata": {},
     "output_type": "display_data"
    }
   ],
   "source": [
    "for i in range(1, 5):\n",
    "    qc = deutsch_function(i)\n",
    "    print(f\"Circuito para o caso {i}:\")\n",
    "    display(qc.draw(output=\"mpl\", style={\"backgroundcolor\": \"#EEEEEE\"}))"
   ]
  },
  {
   "cell_type": "code",
   "execution_count": 20,
   "metadata": {
    "id": "JeJK-UB2XB7V"
   },
   "outputs": [],
   "source": [
    "def compile_circuit(function: QuantumCircuit):\n",
    "    # Compilando o circuito do algoritmo de Deustch.\n",
    "\n",
    "    n = function.num_qubits - 1\n",
    "    qc = QuantumCircuit(n + 1, n)\n",
    "\n",
    "    qc.x(n)\n",
    "    qc.h(range(n + 1))\n",
    "\n",
    "    qc.barrier()\n",
    "    qc.compose(function, inplace=True)\n",
    "    qc.barrier()\n",
    "\n",
    "    qc.h(range(n))\n",
    "    qc.measure(range(n), range(n))\n",
    "\n",
    "    return qc"
   ]
  },
  {
   "cell_type": "code",
   "execution_count": 21,
   "metadata": {
    "colab": {
     "base_uri": "https://localhost:8080/",
     "height": 125
    },
    "id": "61vxQXdnXH_M",
    "outputId": "b41bc6bd-c15a-4f02-e1db-54161658be3f"
   },
   "outputs": [
    {
     "data": {
      "image/png": "[encoded data removed]",
      "text/plain": [
       "<Figure size 788.961x284.278 with 1 Axes>"
      ]
     },
     "metadata": {},
     "output_type": "display_data"
    }
   ],
   "source": [
    "display(compile_circuit(deutsch_function(3)).draw(output=\"mpl\", style={\"backgroundcolor\": \"#EEEEEE\"}))"
   ]
  },
  {
   "cell_type": "code",
   "execution_count": 37,
   "metadata": {
    "id": "w8LwJurcXLN9"
   },
   "outputs": [],
   "source": [
    "def deutsch_algorithm(function: QuantumCircuit):\n",
    "    # Determina se a função é constante ou balanceada.\n",
    "\n",
    "    qc = compile_circuit(function)\n",
    "\n",
    "    result = AerSimulator().run(qc, shots=1, memory=True).result()\n",
    "    measurements = result.get_memory()\n",
    "    if measurements[0] == \"0\":\n",
    "        return \"constante\"\n",
    "    return \"balanceada\""
   ]
  },
  {
   "cell_type": "code",
   "execution_count": 38,
   "metadata": {
    "colab": {
     "base_uri": "https://localhost:8080/",
     "height": 35
    },
    "id": "fy-F92DBXTmN",
    "outputId": "c2e037ad-e2c3-4e51-d651-b8bcec67ef31"
   },
   "outputs": [
    {
     "name": "stdout",
     "output_type": "stream",
     "text": [
      "Caso 1:\n"
     ]
    },
    {
     "data": {
      "text/plain": [
       "'constante'"
      ]
     },
     "metadata": {},
     "output_type": "display_data"
    },
    {
     "name": "stdout",
     "output_type": "stream",
     "text": [
      "Caso 2:\n"
     ]
    },
    {
     "data": {
      "text/plain": [
       "'balanceada'"
      ]
     },
     "metadata": {},
     "output_type": "display_data"
    },
    {
     "name": "stdout",
     "output_type": "stream",
     "text": [
      "Caso 3:\n"
     ]
    },
    {
     "data": {
      "text/plain": [
       "'balanceada'"
      ]
     },
     "metadata": {},
     "output_type": "display_data"
    },
    {
     "name": "stdout",
     "output_type": "stream",
     "text": [
      "Caso 4:\n"
     ]
    },
    {
     "data": {
      "text/plain": [
       "'constante'"
      ]
     },
     "metadata": {},
     "output_type": "display_data"
    }
   ],
   "source": [
    "for i in range(1,5):\n",
    "    print(f\"Caso {i}:\")\n",
    "    f = deutsch_function(i)\n",
    "    display(deutsch_algorithm(f))"
   ]
  },
  {
   "cell_type": "markdown",
   "metadata": {
    "id": "HmzdPvp0Xnpg"
   },
   "source": [
    "referência: https://learning.quantum.ibm.com/course/fundamentals-of-quantum-algorithms/quantum-query-algorithms"
   ]
  }
 ],
 "metadata": {
  "colab": {
   "provenance": []
  },
  "kernelspec": {
   "display_name": "Python 3 (ipykernel)",
   "language": "python",
   "name": "python3"
  },
  "language_info": {
   "codemirror_mode": {
    "name": "ipython",
    "version": 3
   },
   "file_extension": ".py",
   "mimetype": "text/x-python",
   "name": "python",
   "nbconvert_exporter": "python",
   "pygments_lexer": "ipython3",
   "version": "3.9.7"
  }
 },
 "nbformat": 4,
 "nbformat_minor": 1
}
